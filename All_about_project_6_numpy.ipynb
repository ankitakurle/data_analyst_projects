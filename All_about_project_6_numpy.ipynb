{
 "cells": [
  {
   "cell_type": "markdown",
   "id": "8817839e",
   "metadata": {},
   "source": [
    "# Problem statement: Analyze the given dataset , perform preprocessing , data cleaning and exploration."
   ]
  },
  {
   "cell_type": "markdown",
   "id": "1436f9f9",
   "metadata": {},
   "source": [
    "## Importing Library"
   ]
  },
  {
   "cell_type": "code",
   "execution_count": 791,
   "id": "a8527fcb",
   "metadata": {},
   "outputs": [],
   "source": [
    "import numpy as np\n",
    "# np.set_printoptions is used to set how to display the array\n",
    "np.set_printoptions(suppress=True, linewidth=100, precision=2)"
   ]
  },
  {
   "cell_type": "code",
   "execution_count": 792,
   "id": "4dfdc063",
   "metadata": {},
   "outputs": [],
   "source": [
    "# giving a file path\n",
    "filepath=(\"C:/Users/0863a/OneDrive/Desktop/projects/project_3_loan_databy_numpy/loan-data.csv\")"
   ]
  },
  {
   "cell_type": "code",
   "execution_count": 793,
   "id": "95633d78",
   "metadata": {},
   "outputs": [],
   "source": [
    "# genfromtxt using because if we have missing vlues it will still be loaded\n",
    "raw_data = np.genfromtxt( filepath, delimiter = ';', skip_header = 1)"
   ]
  },
  {
   "cell_type": "code",
   "execution_count": 794,
   "id": "d33c20b9",
   "metadata": {},
   "outputs": [
    {
     "data": {
      "text/plain": [
       "array([[48010226.  ,         nan,    35000.  , ...,         nan,         nan,     9452.96],\n",
       "       [57693261.  ,         nan,    30000.  , ...,         nan,         nan,     4679.7 ],\n",
       "       [59432726.  ,         nan,    15000.  , ...,         nan,         nan,     1969.83],\n",
       "       ...,\n",
       "       [50415990.  ,         nan,    10000.  , ...,         nan,         nan,     2185.64],\n",
       "       [46154151.  ,         nan,         nan, ...,         nan,         nan,     3199.4 ],\n",
       "       [66055249.  ,         nan,    10000.  , ...,         nan,         nan,      301.9 ]])"
      ]
     },
     "execution_count": 794,
     "metadata": {},
     "output_type": "execute_result"
    }
   ],
   "source": [
    "# viewing data\n",
    "raw_data"
   ]
  },
  {
   "cell_type": "code",
   "execution_count": 795,
   "id": "24f68c7a",
   "metadata": {},
   "outputs": [
    {
     "data": {
      "text/plain": [
       "(10000, 14)"
      ]
     },
     "execution_count": 795,
     "metadata": {},
     "output_type": "execute_result"
    }
   ],
   "source": [
    "# checking the shape of data we have skipped header so the total rows are 100001\n",
    "raw_data.shape"
   ]
  },
  {
   "cell_type": "code",
   "execution_count": 796,
   "id": "295a4e10",
   "metadata": {},
   "outputs": [
    {
     "data": {
      "text/plain": [
       "88005"
      ]
     },
     "execution_count": 796,
     "metadata": {},
     "output_type": "execute_result"
    }
   ],
   "source": [
    "# checking for null values but in numpy we have string as nan too so we will columnwise count it out\n",
    "np.isnan(raw_data).sum()"
   ]
  },
  {
   "cell_type": "code",
   "execution_count": 797,
   "id": "ab6db208",
   "metadata": {},
   "outputs": [
    {
     "name": "stderr",
     "output_type": "stream",
     "text": [
      "C:\\Users\\0863a\\AppData\\Local\\Temp\\ipykernel_16808\\479347251.py:2: RuntimeWarning: All-NaN slice encountered\n",
      "  temp_max = np.nanmax(raw_data,axis=0)\n"
     ]
    },
    {
     "data": {
      "text/plain": [
       "array([68616519.  ,         nan,    35000.  ,         nan,    35000.  ,         nan,       28.99,\n",
       "           1372.97,         nan,         nan,         nan,         nan,         nan,    41913.62])"
      ]
     },
     "execution_count": 797,
     "metadata": {},
     "output_type": "execute_result"
    }
   ],
   "source": [
    "# calculating max of each column\n",
    "temp_max = np.nanmax(raw_data,axis=0)\n",
    "temp_max"
   ]
  },
  {
   "cell_type": "code",
   "execution_count": 798,
   "id": "0baab26b",
   "metadata": {},
   "outputs": [
    {
     "name": "stderr",
     "output_type": "stream",
     "text": [
      "C:\\Users\\0863a\\AppData\\Local\\Temp\\ipykernel_16808\\2431420344.py:2: RuntimeWarning: Mean of empty slice\n",
      "  temp_mean = np.nanmean(raw_data , axis=0)\n"
     ]
    },
    {
     "data": {
      "text/plain": [
       "array([54015809.19,         nan,    15273.46,         nan,    15311.04,         nan,       16.62,\n",
       "            440.92,         nan,         nan,         nan,         nan,         nan,     3143.85])"
      ]
     },
     "execution_count": 798,
     "metadata": {},
     "output_type": "execute_result"
    }
   ],
   "source": [
    "# calculating mean of each column\n",
    "temp_mean = np.nanmean(raw_data , axis=0)\n",
    "temp_mean"
   ]
  },
  {
   "cell_type": "code",
   "execution_count": 799,
   "id": "80ea1e9a",
   "metadata": {},
   "outputs": [
    {
     "name": "stderr",
     "output_type": "stream",
     "text": [
      "C:\\Users\\0863a\\AppData\\Local\\Temp\\ipykernel_16808\\681576281.py:2: RuntimeWarning: All-NaN slice encountered\n",
      "  temp_min = np.nanmin(raw_data, axis=0)\n"
     ]
    },
    {
     "data": {
      "text/plain": [
       "array([373332.  ,       nan,   1000.  ,       nan,   1000.  ,       nan,      6.  ,     31.42,\n",
       "             nan,       nan,       nan,       nan,       nan,      0.  ])"
      ]
     },
     "execution_count": 799,
     "metadata": {},
     "output_type": "execute_result"
    }
   ],
   "source": [
    "# calculating min of each column\n",
    "temp_min = np.nanmin(raw_data, axis=0)\n",
    "temp_min"
   ]
  },
  {
   "cell_type": "code",
   "execution_count": 800,
   "id": "6411ff7d",
   "metadata": {},
   "outputs": [
    {
     "data": {
      "text/plain": [
       "array([[68616519.  ,         nan,    35000.  ,         nan,    35000.  ,         nan,       28.99,\n",
       "            1372.97,         nan,         nan,         nan,         nan,         nan,    41913.62],\n",
       "       [54015809.19,         nan,    15273.46,         nan,    15311.04,         nan,       16.62,\n",
       "             440.92,         nan,         nan,         nan,         nan,         nan,     3143.85],\n",
       "       [  373332.  ,         nan,     1000.  ,         nan,     1000.  ,         nan,        6.  ,\n",
       "              31.42,         nan,         nan,         nan,         nan,         nan,        0.  ]])"
      ]
     },
     "execution_count": 800,
     "metadata": {},
     "output_type": "execute_result"
    }
   ],
   "source": [
    "# observing the statistics\n",
    "temp_statistics=np.array([temp_max,\n",
    "                         temp_mean,\n",
    "                         temp_min])\n",
    "temp_statistics"
   ]
  },
  {
   "cell_type": "markdown",
   "id": "a72cdf5b",
   "metadata": {},
   "source": [
    "# Splitting the columns"
   ]
  },
  {
   "cell_type": "code",
   "execution_count": 801,
   "id": "d4471ca2",
   "metadata": {},
   "outputs": [
    {
     "data": {
      "text/plain": [
       "array([ 1,  3,  5,  8,  9, 10, 11, 12], dtype=int64)"
      ]
     },
     "execution_count": 801,
     "metadata": {},
     "output_type": "execute_result"
    }
   ],
   "source": [
    "# getting the indices of column where nan values exist in mean\n",
    "column_strings= np.argwhere(np.isnan(temp_mean)).squeeze()\n",
    "column_strings"
   ]
  },
  {
   "cell_type": "code",
   "execution_count": 802,
   "id": "7e9aee47",
   "metadata": {},
   "outputs": [
    {
     "data": {
      "text/plain": [
       "array([ 0,  2,  4,  6,  7, 13], dtype=int64)"
      ]
     },
     "execution_count": 802,
     "metadata": {},
     "output_type": "execute_result"
    }
   ],
   "source": [
    "# getting the indices of column where nan values does not exist in mean\n",
    "colum_numerics=np.argwhere(~np.isnan(temp_mean)).squeeze()\n",
    "colum_numerics"
   ]
  },
  {
   "cell_type": "markdown",
   "id": "fbb7b07a",
   "metadata": {},
   "source": [
    "# Reimporting the dataset"
   ]
  },
  {
   "cell_type": "code",
   "execution_count": 803,
   "id": "4dab369d",
   "metadata": {},
   "outputs": [
    {
     "data": {
      "text/plain": [
       "array([[48010226.  ,    35000.  ,    35000.  ,       13.33,     1184.86,     9452.96],\n",
       "       [57693261.  ,    30000.  ,    30000.  ,         nan,      938.57,     4679.7 ],\n",
       "       [59432726.  ,    15000.  ,    15000.  ,         nan,      494.86,     1969.83],\n",
       "       ...,\n",
       "       [50415990.  ,    10000.  ,    10000.  ,         nan,         nan,     2185.64],\n",
       "       [46154151.  ,         nan,    10000.  ,       16.55,      354.3 ,     3199.4 ],\n",
       "       [66055249.  ,    10000.  ,    10000.  ,         nan,      309.97,      301.9 ]])"
      ]
     },
     "execution_count": 803,
     "metadata": {},
     "output_type": "execute_result"
    }
   ],
   "source": [
    "# loading numeric data\n",
    "numeric_data=np.genfromtxt(filepath,delimiter=';',  usecols=colum_numerics, skip_header=1)\n",
    "numeric_data"
   ]
  },
  {
   "cell_type": "code",
   "execution_count": 804,
   "id": "b73fa2a2",
   "metadata": {},
   "outputs": [
    {
     "data": {
      "text/plain": [
       "array([['May-15', 'Current', ' 36 months', ..., 'Verified',\n",
       "        'https://www.lendingclub.com/browse/loanDetail.action?loan_id=48010226', 'CA'],\n",
       "       ['', 'Current', ' 36 months', ..., 'Source Verified',\n",
       "        'https://www.lendingclub.com/browse/loanDetail.action?loan_id=57693261', 'NY'],\n",
       "       ['Sep-15', 'Current', ' 36 months', ..., 'Verified',\n",
       "        'https://www.lendingclub.com/browse/loanDetail.action?loan_id=59432726', 'PA'],\n",
       "       ...,\n",
       "       ['Jun-15', 'Current', ' 36 months', ..., 'Source Verified',\n",
       "        'https://www.lendingclub.com/browse/loanDetail.action?loan_id=50415990', 'CA'],\n",
       "       ['Apr-15', 'Current', ' 36 months', ..., 'Source Verified',\n",
       "        'https://www.lendingclub.com/browse/loanDetail.action?loan_id=46154151', 'OH'],\n",
       "       ['Dec-15', 'Current', ' 36 months', ..., '',\n",
       "        'https://www.lendingclub.com/browse/loanDetail.action?loan_id=66055249', 'IL']],\n",
       "      dtype='<U69')"
      ]
     },
     "execution_count": 804,
     "metadata": {},
     "output_type": "execute_result"
    }
   ],
   "source": [
    "# loading string data\n",
    "string_data=np.genfromtxt(filepath,delimiter=';', usecols= column_strings, skip_header=1, dtype=np.str_)\n",
    "string_data"
   ]
  },
  {
   "cell_type": "code",
   "execution_count": 805,
   "id": "24da2193",
   "metadata": {},
   "outputs": [
    {
     "data": {
      "text/plain": [
       "array(['id', 'issue_d', 'loan_amnt', 'loan_status', 'funded_amnt', 'term', 'int_rate',\n",
       "       'installment', 'grade', 'sub_grade', 'verification_status', 'url', 'addr_state',\n",
       "       'total_pymnt'], dtype='<U19')"
      ]
     },
     "execution_count": 805,
     "metadata": {},
     "output_type": "execute_result"
    }
   ],
   "source": [
    "# getting the full header\n",
    "full_header = np.genfromtxt(filepath , \n",
    "                            delimiter = \";\" , \n",
    "                            autostrip = True, \n",
    "                            skip_footer = 10000,\n",
    "                            dtype = np.str_)\n",
    "full_header                                 "
   ]
  },
  {
   "cell_type": "code",
   "execution_count": 806,
   "id": "66e081ca",
   "metadata": {},
   "outputs": [],
   "source": [
    "header_strings , header_numeric = full_header[column_strings] , full_header[colum_numerics]"
   ]
  },
  {
   "cell_type": "code",
   "execution_count": 807,
   "id": "e42b6857",
   "metadata": {},
   "outputs": [
    {
     "data": {
      "text/plain": [
       "array(['issue_d', 'loan_status', 'term', 'grade', 'sub_grade', 'verification_status', 'url',\n",
       "       'addr_state'], dtype='<U19')"
      ]
     },
     "execution_count": 807,
     "metadata": {},
     "output_type": "execute_result"
    }
   ],
   "source": [
    "header_strings"
   ]
  },
  {
   "cell_type": "code",
   "execution_count": 808,
   "id": "2768e24f",
   "metadata": {},
   "outputs": [
    {
     "data": {
      "text/plain": [
       "array(['id', 'loan_amnt', 'funded_amnt', 'int_rate', 'installment', 'total_pymnt'], dtype='<U19')"
      ]
     },
     "execution_count": 808,
     "metadata": {},
     "output_type": "execute_result"
    }
   ],
   "source": [
    "header_numeric"
   ]
  },
  {
   "cell_type": "markdown",
   "id": "6c5b17f3",
   "metadata": {},
   "source": [
    "# Manipulating string columns"
   ]
  },
  {
   "cell_type": "code",
   "execution_count": 809,
   "id": "f5f6ae93",
   "metadata": {},
   "outputs": [
    {
     "data": {
      "text/plain": [
       "array(['issue_d', 'loan_status', 'term', 'grade', 'sub_grade', 'verification_status', 'url',\n",
       "       'addr_state'], dtype='<U19')"
      ]
     },
     "execution_count": 809,
     "metadata": {},
     "output_type": "execute_result"
    }
   ],
   "source": [
    "header_strings"
   ]
  },
  {
   "cell_type": "code",
   "execution_count": 810,
   "id": "9288e7e5",
   "metadata": {},
   "outputs": [],
   "source": [
    "header_strings[0]= 'issue_date'"
   ]
  },
  {
   "cell_type": "code",
   "execution_count": 811,
   "id": "97301c50",
   "metadata": {},
   "outputs": [
    {
     "data": {
      "text/plain": [
       "array(['May-15', '', 'Sep-15', ..., 'Jun-15', 'Apr-15', 'Dec-15'], dtype='<U69')"
      ]
     },
     "execution_count": 811,
     "metadata": {},
     "output_type": "execute_result"
    }
   ],
   "source": [
    "string_data[:,0]"
   ]
  },
  {
   "cell_type": "code",
   "execution_count": 812,
   "id": "f4616721",
   "metadata": {},
   "outputs": [
    {
     "data": {
      "text/plain": [
       "array(['', 'Apr-15', 'Aug-15', 'Dec-15', 'Feb-15', 'Jan-15', 'Jul-15', 'Jun-15', 'Mar-15',\n",
       "       'May-15', 'Nov-15', 'Oct-15', 'Sep-15'], dtype='<U69')"
      ]
     },
     "execution_count": 812,
     "metadata": {},
     "output_type": "execute_result"
    }
   ],
   "source": [
    "np.unique(string_data[:,0])"
   ]
  },
  {
   "cell_type": "code",
   "execution_count": 813,
   "id": "2ac281d6",
   "metadata": {},
   "outputs": [
    {
     "data": {
      "text/plain": [
       "array(['May', '', 'Sep', ..., 'Jun', 'Apr', 'Dec'], dtype='<U69')"
      ]
     },
     "execution_count": 813,
     "metadata": {},
     "output_type": "execute_result"
    }
   ],
   "source": [
    "string_data[:,0]=np.chararray.strip(string_data[:,0],'-15')\n",
    "string_data[:,0]"
   ]
  },
  {
   "cell_type": "code",
   "execution_count": 814,
   "id": "da780e33",
   "metadata": {},
   "outputs": [],
   "source": [
    "months = np.array(['' , 'Jan', 'Feb' ,'Mar','Apr','May','Jun','Jul','Aug','Sep','Oct','Nov','Dec'])"
   ]
  },
  {
   "cell_type": "code",
   "execution_count": 815,
   "id": "57a292dc",
   "metadata": {},
   "outputs": [],
   "source": [
    "for i in range(13):\n",
    "    string_data[:,0]=np.where(string_data[:,0] == months[i],\n",
    "                                   i,\n",
    "                              string_data[:,0])\n",
    "                                "
   ]
  },
  {
   "cell_type": "code",
   "execution_count": 816,
   "id": "2506bff5",
   "metadata": {},
   "outputs": [
    {
     "data": {
      "text/plain": [
       "array(['0', '1', '10', '11', '12', '2', '3', '4', '5', '6', '7', '8', '9'], dtype='<U69')"
      ]
     },
     "execution_count": 816,
     "metadata": {},
     "output_type": "execute_result"
    }
   ],
   "source": [
    "np.unique(string_data[:,0])"
   ]
  },
  {
   "cell_type": "markdown",
   "id": "54374aac",
   "metadata": {},
   "source": [
    "# Loan status"
   ]
  },
  {
   "cell_type": "code",
   "execution_count": 817,
   "id": "7346256a",
   "metadata": {},
   "outputs": [
    {
     "data": {
      "text/plain": [
       "array(['issue_date', 'loan_status', 'term', 'grade', 'sub_grade', 'verification_status', 'url',\n",
       "       'addr_state'], dtype='<U19')"
      ]
     },
     "execution_count": 817,
     "metadata": {},
     "output_type": "execute_result"
    }
   ],
   "source": [
    "header_strings"
   ]
  },
  {
   "cell_type": "code",
   "execution_count": 818,
   "id": "3a97cd38",
   "metadata": {},
   "outputs": [
    {
     "data": {
      "text/plain": [
       "array(['', 'Charged Off', 'Current', 'Default', 'Fully Paid', 'In Grace Period', 'Issued',\n",
       "       'Late (16-30 days)', 'Late (31-120 days)'], dtype='<U69')"
      ]
     },
     "execution_count": 818,
     "metadata": {},
     "output_type": "execute_result"
    }
   ],
   "source": [
    "np.unique(string_data[:,1])"
   ]
  },
  {
   "cell_type": "code",
   "execution_count": 819,
   "id": "a67ceed1",
   "metadata": {},
   "outputs": [],
   "source": [
    "status_bad = np.array(['Charged Off' , 'Default' , 'Late (31-120 days)'])"
   ]
  },
  {
   "cell_type": "code",
   "execution_count": 820,
   "id": "0075f9b9",
   "metadata": {},
   "outputs": [],
   "source": [
    "string_data[:,1] = np.where(np.isin(string_data[:,1],status_bad),0,1)"
   ]
  },
  {
   "cell_type": "code",
   "execution_count": 821,
   "id": "f7d9b34c",
   "metadata": {},
   "outputs": [
    {
     "data": {
      "text/plain": [
       "array(['1', '1', '1', ..., '1', '1', '1'], dtype='<U69')"
      ]
     },
     "execution_count": 821,
     "metadata": {},
     "output_type": "execute_result"
    }
   ],
   "source": [
    "string_data[:,1]"
   ]
  },
  {
   "cell_type": "code",
   "execution_count": 822,
   "id": "089303cd",
   "metadata": {},
   "outputs": [
    {
     "data": {
      "text/plain": [
       "array(['0', '1'], dtype='<U69')"
      ]
     },
     "execution_count": 822,
     "metadata": {},
     "output_type": "execute_result"
    }
   ],
   "source": [
    "np.unique(string_data[:,1])"
   ]
  },
  {
   "cell_type": "markdown",
   "id": "54f5220d",
   "metadata": {},
   "source": [
    "# Term"
   ]
  },
  {
   "cell_type": "code",
   "execution_count": 823,
   "id": "2be413b7",
   "metadata": {},
   "outputs": [
    {
     "data": {
      "text/plain": [
       "array(['issue_date', 'loan_status', 'term', 'grade', 'sub_grade', 'verification_status', 'url',\n",
       "       'addr_state'], dtype='<U19')"
      ]
     },
     "execution_count": 823,
     "metadata": {},
     "output_type": "execute_result"
    }
   ],
   "source": [
    "header_strings"
   ]
  },
  {
   "cell_type": "code",
   "execution_count": 824,
   "id": "f617938b",
   "metadata": {},
   "outputs": [
    {
     "data": {
      "text/plain": [
       "array([' 36 months', ' 36 months', ' 36 months', ..., ' 36 months', ' 36 months', ' 36 months'],\n",
       "      dtype='<U69')"
      ]
     },
     "execution_count": 824,
     "metadata": {},
     "output_type": "execute_result"
    }
   ],
   "source": [
    "string_data[:,2]"
   ]
  },
  {
   "cell_type": "code",
   "execution_count": 825,
   "id": "0d1f3946",
   "metadata": {},
   "outputs": [
    {
     "data": {
      "text/plain": [
       "array(['', ' 36 months', ' 60 months'], dtype='<U69')"
      ]
     },
     "execution_count": 825,
     "metadata": {},
     "output_type": "execute_result"
    }
   ],
   "source": [
    "np.unique(string_data[:,2])"
   ]
  },
  {
   "cell_type": "code",
   "execution_count": 826,
   "id": "b86127e2",
   "metadata": {},
   "outputs": [],
   "source": [
    "string_data[:,2] = np.chararray.strip(string_data[:,2],\"months\")"
   ]
  },
  {
   "cell_type": "code",
   "execution_count": 827,
   "id": "d94a3318",
   "metadata": {},
   "outputs": [
    {
     "data": {
      "text/plain": [
       "array([' 36 ', ' 36 ', ' 36 ', ..., ' 36 ', ' 36 ', ' 36 '], dtype='<U69')"
      ]
     },
     "execution_count": 827,
     "metadata": {},
     "output_type": "execute_result"
    }
   ],
   "source": [
    "string_data[:,2]"
   ]
  },
  {
   "cell_type": "code",
   "execution_count": 828,
   "id": "f048244e",
   "metadata": {},
   "outputs": [],
   "source": [
    "header_strings[2]='Term_month'"
   ]
  },
  {
   "cell_type": "code",
   "execution_count": 829,
   "id": "565fa512",
   "metadata": {},
   "outputs": [
    {
     "data": {
      "text/plain": [
       "array(['', ' 36 ', ' 60 '], dtype='<U69')"
      ]
     },
     "execution_count": 829,
     "metadata": {},
     "output_type": "execute_result"
    }
   ],
   "source": [
    "np.unique(string_data[:,2])"
   ]
  },
  {
   "cell_type": "code",
   "execution_count": 830,
   "id": "6b94d495",
   "metadata": {},
   "outputs": [],
   "source": [
    "string_data[:,2]=np.where(string_data[:,2]== '',  ' 60 '  , string_data[:,2])"
   ]
  },
  {
   "cell_type": "code",
   "execution_count": 831,
   "id": "dac39f03",
   "metadata": {},
   "outputs": [
    {
     "data": {
      "text/plain": [
       "array([' 36 ', ' 60 '], dtype='<U69')"
      ]
     },
     "execution_count": 831,
     "metadata": {},
     "output_type": "execute_result"
    }
   ],
   "source": [
    "np.unique(string_data[:,2])"
   ]
  },
  {
   "cell_type": "markdown",
   "id": "d58b8ab3",
   "metadata": {},
   "source": [
    "# Grade and subgrade"
   ]
  },
  {
   "cell_type": "code",
   "execution_count": 832,
   "id": "b9551661",
   "metadata": {},
   "outputs": [
    {
     "data": {
      "text/plain": [
       "array(['issue_date', 'loan_status', 'Term_month', 'grade', 'sub_grade', 'verification_status',\n",
       "       'url', 'addr_state'], dtype='<U19')"
      ]
     },
     "execution_count": 832,
     "metadata": {},
     "output_type": "execute_result"
    }
   ],
   "source": [
    "header_strings"
   ]
  },
  {
   "cell_type": "code",
   "execution_count": 833,
   "id": "b8b64b82",
   "metadata": {},
   "outputs": [
    {
     "data": {
      "text/plain": [
       "array(['C', 'A', 'B', ..., 'A', 'D', 'A'], dtype='<U69')"
      ]
     },
     "execution_count": 833,
     "metadata": {},
     "output_type": "execute_result"
    }
   ],
   "source": [
    "string_data[:,3]"
   ]
  },
  {
   "cell_type": "code",
   "execution_count": 834,
   "id": "1f4e72fb",
   "metadata": {},
   "outputs": [
    {
     "data": {
      "text/plain": [
       "array(['', 'A', 'B', 'C', 'D', 'E', 'F', 'G'], dtype='<U69')"
      ]
     },
     "execution_count": 834,
     "metadata": {},
     "output_type": "execute_result"
    }
   ],
   "source": [
    "np.unique(string_data[:,3])"
   ]
  },
  {
   "cell_type": "code",
   "execution_count": 835,
   "id": "c0fd7cdd",
   "metadata": {},
   "outputs": [
    {
     "data": {
      "text/plain": [
       "array(['C3', 'A5', 'B5', ..., 'A5', 'D2', 'A4'], dtype='<U69')"
      ]
     },
     "execution_count": 835,
     "metadata": {},
     "output_type": "execute_result"
    }
   ],
   "source": [
    "string_data[:,4]"
   ]
  },
  {
   "cell_type": "code",
   "execution_count": 836,
   "id": "0e294c9d",
   "metadata": {},
   "outputs": [
    {
     "data": {
      "text/plain": [
       "array(['', 'A1', 'A2', 'A3', 'A4', 'A5', 'B1', 'B2', 'B3', 'B4', 'B5', 'C1', 'C2', 'C3', 'C4',\n",
       "       'C5', 'D1', 'D2', 'D3', 'D4', 'D5', 'E1', 'E2', 'E3', 'E4', 'E5', 'F1', 'F2', 'F3', 'F4',\n",
       "       'F5', 'G1', 'G2', 'G3', 'G4', 'G5'], dtype='<U69')"
      ]
     },
     "execution_count": 836,
     "metadata": {},
     "output_type": "execute_result"
    }
   ],
   "source": [
    "np.unique(string_data[:,4])"
   ]
  },
  {
   "cell_type": "code",
   "execution_count": 837,
   "id": "3ad43a57",
   "metadata": {},
   "outputs": [
    {
     "data": {
      "text/plain": [
       "array(['A', 'B', 'C', 'D', 'E', 'F', 'G'], dtype='<U69')"
      ]
     },
     "execution_count": 837,
     "metadata": {},
     "output_type": "execute_result"
    }
   ],
   "source": [
    "np.unique(string_data[: , 3])[1:]"
   ]
  },
  {
   "cell_type": "code",
   "execution_count": 838,
   "id": "4f2f1f6b",
   "metadata": {},
   "outputs": [],
   "source": [
    "for i in np.unique(string_data[: , 3])[1:]:\n",
    "    string_data[:,4]=np.where((string_data[:,4] == '') & (string_data[:,3]== i),  i + '5',\n",
    "                                  string_data[: , 4])\n",
    "    "
   ]
  },
  {
   "cell_type": "code",
   "execution_count": 839,
   "id": "f41f0570",
   "metadata": {},
   "outputs": [
    {
     "data": {
      "text/plain": [
       "(array(['', 'A1', 'A2', 'A3', 'A4', 'A5', 'B1', 'B2', 'B3', 'B4', 'B5', 'C1', 'C2', 'C3', 'C4',\n",
       "        'C5', 'D1', 'D2', 'D3', 'D4', 'D5', 'E1', 'E2', 'E3', 'E4', 'E5', 'F1', 'F2', 'F3', 'F4',\n",
       "        'F5', 'G1', 'G2', 'G3', 'G4', 'G5'], dtype='<U69'),\n",
       " array([  9, 285, 278, 239, 323, 592, 509, 517, 530, 553, 633, 629, 567, 586, 564, 577, 391, 267,\n",
       "        250, 255, 288, 235, 162, 171, 139, 160,  94,  52,  34,  43,  24,  19,  10,   3,   7,   5],\n",
       "       dtype=int64))"
      ]
     },
     "execution_count": 839,
     "metadata": {},
     "output_type": "execute_result"
    }
   ],
   "source": [
    "np.unique(string_data[: , 4], return_counts=True)"
   ]
  },
  {
   "cell_type": "code",
   "execution_count": 840,
   "id": "01100ca3",
   "metadata": {},
   "outputs": [],
   "source": [
    "string_data[: , 4] = np.where(string_data[: , 4] == '',\n",
    "                                              'H1',\n",
    "                                              string_data[: , 4])\n"
   ]
  },
  {
   "cell_type": "code",
   "execution_count": 841,
   "id": "4ccc351b",
   "metadata": {},
   "outputs": [
    {
     "data": {
      "text/plain": [
       "array(['A1', 'A2', 'A3', 'A4', 'A5', 'B1', 'B2', 'B3', 'B4', 'B5', 'C1', 'C2', 'C3', 'C4', 'C5',\n",
       "       'D1', 'D2', 'D3', 'D4', 'D5', 'E1', 'E2', 'E3', 'E4', 'E5', 'F1', 'F2', 'F3', 'F4', 'F5',\n",
       "       'G1', 'G2', 'G3', 'G4', 'G5', 'H1'], dtype='<U69')"
      ]
     },
     "execution_count": 841,
     "metadata": {},
     "output_type": "execute_result"
    }
   ],
   "source": [
    "np.unique(string_data[: , 4])"
   ]
  },
  {
   "cell_type": "markdown",
   "id": "9f60a18b",
   "metadata": {},
   "source": [
    "# Removing grade"
   ]
  },
  {
   "cell_type": "code",
   "execution_count": 842,
   "id": "5d82887c",
   "metadata": {},
   "outputs": [
    {
     "data": {
      "text/plain": [
       "array([['5', '1', ' 36 ', ..., 'Verified',\n",
       "        'https://www.lendingclub.com/browse/loanDetail.action?loan_id=48010226', 'CA'],\n",
       "       ['0', '1', ' 36 ', ..., 'Source Verified',\n",
       "        'https://www.lendingclub.com/browse/loanDetail.action?loan_id=57693261', 'NY'],\n",
       "       ['9', '1', ' 36 ', ..., 'Verified',\n",
       "        'https://www.lendingclub.com/browse/loanDetail.action?loan_id=59432726', 'PA'],\n",
       "       ...,\n",
       "       ['6', '1', ' 36 ', ..., 'Source Verified',\n",
       "        'https://www.lendingclub.com/browse/loanDetail.action?loan_id=50415990', 'CA'],\n",
       "       ['4', '1', ' 36 ', ..., 'Source Verified',\n",
       "        'https://www.lendingclub.com/browse/loanDetail.action?loan_id=46154151', 'OH'],\n",
       "       ['12', '1', ' 36 ', ..., '',\n",
       "        'https://www.lendingclub.com/browse/loanDetail.action?loan_id=66055249', 'IL']],\n",
       "      dtype='<U69')"
      ]
     },
     "execution_count": 842,
     "metadata": {},
     "output_type": "execute_result"
    }
   ],
   "source": [
    "string_data=np.delete(string_data, 3 , axis= 1)\n",
    "string_data"
   ]
  },
  {
   "cell_type": "code",
   "execution_count": 843,
   "id": "8d92d1b1",
   "metadata": {},
   "outputs": [],
   "source": [
    "header_strings=np.delete(header_strings, 3)"
   ]
  },
  {
   "cell_type": "code",
   "execution_count": 844,
   "id": "6d8898f7",
   "metadata": {},
   "outputs": [
    {
     "data": {
      "text/plain": [
       "array(['issue_date', 'loan_status', 'Term_month', 'sub_grade', 'verification_status', 'url',\n",
       "       'addr_state'], dtype='<U19')"
      ]
     },
     "execution_count": 844,
     "metadata": {},
     "output_type": "execute_result"
    }
   ],
   "source": [
    "header_strings"
   ]
  },
  {
   "cell_type": "markdown",
   "id": "9f325ce1",
   "metadata": {},
   "source": [
    "# Verification status"
   ]
  },
  {
   "cell_type": "code",
   "execution_count": 845,
   "id": "77fcdc7a",
   "metadata": {},
   "outputs": [
    {
     "data": {
      "text/plain": [
       "array(['Verified', 'Source Verified', 'Verified', ..., 'Source Verified', 'Source Verified', ''],\n",
       "      dtype='<U69')"
      ]
     },
     "execution_count": 845,
     "metadata": {},
     "output_type": "execute_result"
    }
   ],
   "source": [
    "string_data[:,4]"
   ]
  },
  {
   "cell_type": "code",
   "execution_count": 846,
   "id": "a62bd4ee",
   "metadata": {},
   "outputs": [
    {
     "data": {
      "text/plain": [
       "array(['', 'Not Verified', 'Source Verified', 'Verified'], dtype='<U69')"
      ]
     },
     "execution_count": 846,
     "metadata": {},
     "output_type": "execute_result"
    }
   ],
   "source": [
    "np.unique(string_data[:,4])"
   ]
  },
  {
   "cell_type": "markdown",
   "id": "719a4f2b",
   "metadata": {},
   "source": [
    "# url"
   ]
  },
  {
   "cell_type": "code",
   "execution_count": 847,
   "id": "ff609151",
   "metadata": {},
   "outputs": [
    {
     "data": {
      "text/plain": [
       "array(['https://www.lendingclub.com/browse/loanDetail.action?loan_id=48010226',\n",
       "       'https://www.lendingclub.com/browse/loanDetail.action?loan_id=57693261',\n",
       "       'https://www.lendingclub.com/browse/loanDetail.action?loan_id=59432726', ...,\n",
       "       'https://www.lendingclub.com/browse/loanDetail.action?loan_id=50415990',\n",
       "       'https://www.lendingclub.com/browse/loanDetail.action?loan_id=46154151',\n",
       "       'https://www.lendingclub.com/browse/loanDetail.action?loan_id=66055249'], dtype='<U69')"
      ]
     },
     "execution_count": 847,
     "metadata": {},
     "output_type": "execute_result"
    }
   ],
   "source": [
    "string_data[:,5]"
   ]
  },
  {
   "cell_type": "code",
   "execution_count": 848,
   "id": "0e7ddc5a",
   "metadata": {},
   "outputs": [],
   "source": [
    "string_data[:,5]=np.chararray.strip(string_data[:,5], 'https://www.lendingclub.com/browse/loanDetail.action?loan_id=' )"
   ]
  },
  {
   "cell_type": "code",
   "execution_count": 849,
   "id": "dd8ac64e",
   "metadata": {},
   "outputs": [
    {
     "data": {
      "text/plain": [
       "array(['48010226', '57693261', '59432726', ..., '50415990', '46154151', '66055249'], dtype='<U69')"
      ]
     },
     "execution_count": 849,
     "metadata": {},
     "output_type": "execute_result"
    }
   ],
   "source": [
    "string_data[:,5]"
   ]
  },
  {
   "cell_type": "code",
   "execution_count": 850,
   "id": "a51cfbaf",
   "metadata": {},
   "outputs": [
    {
     "data": {
      "text/plain": [
       "array([48010226., 57693261., 59432726., ..., 50415990., 46154151., 66055249.])"
      ]
     },
     "execution_count": 850,
     "metadata": {},
     "output_type": "execute_result"
    }
   ],
   "source": [
    "numeric_data[:,0]"
   ]
  },
  {
   "cell_type": "code",
   "execution_count": 851,
   "id": "f68ead63",
   "metadata": {},
   "outputs": [],
   "source": [
    "numeric_data[:,0]=numeric_data[:,0].astype(dtype = np.int32)"
   ]
  },
  {
   "cell_type": "code",
   "execution_count": 852,
   "id": "457237f3",
   "metadata": {},
   "outputs": [],
   "source": [
    "#np.array_equal(numeric_data[:,0].astype(dtype = np.int32),string_data[:,5].astype(dtype =np.int32))"
   ]
  },
  {
   "cell_type": "code",
   "execution_count": 853,
   "id": "8c6f9436",
   "metadata": {},
   "outputs": [
    {
     "data": {
      "text/plain": [
       "array([['5', '1', ' 36 ', 'C3', 'Verified', 'CA'],\n",
       "       ['0', '1', ' 36 ', 'A5', 'Source Verified', 'NY'],\n",
       "       ['9', '1', ' 36 ', 'B5', 'Verified', 'PA'],\n",
       "       ...,\n",
       "       ['6', '1', ' 36 ', 'A5', 'Source Verified', 'CA'],\n",
       "       ['4', '1', ' 36 ', 'D2', 'Source Verified', 'OH'],\n",
       "       ['12', '1', ' 36 ', 'A4', '', 'IL']], dtype='<U69')"
      ]
     },
     "execution_count": 853,
     "metadata": {},
     "output_type": "execute_result"
    }
   ],
   "source": [
    "string_data = np.delete(string_data , 5 , axis = 1)\n",
    "string_data"
   ]
  },
  {
   "cell_type": "code",
   "execution_count": 854,
   "id": "1e7b77d7",
   "metadata": {},
   "outputs": [
    {
     "data": {
      "text/plain": [
       "array(['issue_date', 'loan_status', 'Term_month', 'sub_grade', 'verification_status', 'addr_state'],\n",
       "      dtype='<U19')"
      ]
     },
     "execution_count": 854,
     "metadata": {},
     "output_type": "execute_result"
    }
   ],
   "source": [
    "header_strings = np.delete(header_strings , 5)\n",
    "header_strings"
   ]
  },
  {
   "cell_type": "markdown",
   "id": "c4dcd820",
   "metadata": {},
   "source": [
    "# State address"
   ]
  },
  {
   "cell_type": "code",
   "execution_count": 855,
   "id": "2922f8fc",
   "metadata": {},
   "outputs": [
    {
     "data": {
      "text/plain": [
       "array(['CA', 'NY', 'PA', ..., 'CA', 'OH', 'IL'], dtype='<U69')"
      ]
     },
     "execution_count": 855,
     "metadata": {},
     "output_type": "execute_result"
    }
   ],
   "source": [
    "string_data[:,5]"
   ]
  },
  {
   "cell_type": "code",
   "execution_count": 856,
   "id": "015f174e",
   "metadata": {},
   "outputs": [
    {
     "data": {
      "text/plain": [
       "array(['', 'AK', 'AL', 'AR', 'AZ', 'CA', 'CO', 'CT', 'DC', 'DE', 'FL', 'GA', 'HI', 'IL', 'IN',\n",
       "       'KS', 'KY', 'LA', 'MA', 'MD', 'ME', 'MI', 'MN', 'MO', 'MS', 'MT', 'NC', 'ND', 'NE', 'NH',\n",
       "       'NJ', 'NM', 'NV', 'NY', 'OH', 'OK', 'OR', 'PA', 'RI', 'SC', 'SD', 'TN', 'TX', 'UT', 'VA',\n",
       "       'VT', 'WA', 'WI', 'WV', 'WY'], dtype='<U69')"
      ]
     },
     "execution_count": 856,
     "metadata": {},
     "output_type": "execute_result"
    }
   ],
   "source": [
    "np.unique(string_data[:,5])"
   ]
  },
  {
   "cell_type": "code",
   "execution_count": 857,
   "id": "8ac72f03",
   "metadata": {},
   "outputs": [],
   "source": [
    "state_names , state_counts = np.unique(string_data[:,5] , return_counts=True)\n"
   ]
  },
  {
   "cell_type": "code",
   "execution_count": 858,
   "id": "ae64554e",
   "metadata": {},
   "outputs": [
    {
     "data": {
      "text/plain": [
       "array(['', 'AK', 'AL', 'AR', 'AZ', 'CA', 'CO', 'CT', 'DC', 'DE', 'FL', 'GA', 'HI', 'IL', 'IN',\n",
       "       'KS', 'KY', 'LA', 'MA', 'MD', 'ME', 'MI', 'MN', 'MO', 'MS', 'MT', 'NC', 'ND', 'NE', 'NH',\n",
       "       'NJ', 'NM', 'NV', 'NY', 'OH', 'OK', 'OR', 'PA', 'RI', 'SC', 'SD', 'TN', 'TX', 'UT', 'VA',\n",
       "       'VT', 'WA', 'WI', 'WV', 'WY'], dtype='<U69')"
      ]
     },
     "execution_count": 858,
     "metadata": {},
     "output_type": "execute_result"
    }
   ],
   "source": [
    "state_names "
   ]
  },
  {
   "cell_type": "code",
   "execution_count": 859,
   "id": "df067d20",
   "metadata": {},
   "outputs": [
    {
     "data": {
      "text/plain": [
       "array([ 500,   26,  119,   74,  220, 1336,  201,  143,   27,   27,  690,  321,   44,  389,  152,\n",
       "         84,   84,  116,  210,  222,   10,  267,  156,  160,   61,   28,  261,   16,   25,   58,\n",
       "        341,   57,  130,  777,  312,   83,  108,  320,   40,  107,   24,  143,  758,   74,  242,\n",
       "         17,  216,  148,   49,   27], dtype=int64)"
      ]
     },
     "execution_count": 859,
     "metadata": {},
     "output_type": "execute_result"
    }
   ],
   "source": [
    "state_counts"
   ]
  },
  {
   "cell_type": "code",
   "execution_count": 860,
   "id": "f575b840",
   "metadata": {},
   "outputs": [
    {
     "data": {
      "text/plain": [
       "array([ 5, 33, 42, 10,  0, 13, 30, 11, 37, 34, 21, 26, 44, 19,  4, 46, 18,  6, 23, 22, 14, 47,  7,\n",
       "       41, 32,  2, 17, 36, 39, 16, 15, 35, 43,  3, 24, 29, 31, 48, 12, 38, 25,  9,  8, 49,  1, 28,\n",
       "       40, 45, 27, 20], dtype=int64)"
      ]
     },
     "execution_count": 860,
     "metadata": {},
     "output_type": "execute_result"
    }
   ],
   "source": [
    "#state_counts_sorted = np.argsort(-state_counts)\n",
    "#state_counts_sorted"
   ]
  },
  {
   "cell_type": "code",
   "execution_count": 861,
   "id": "8b535467",
   "metadata": {},
   "outputs": [],
   "source": [
    "string_data[:,5] = np.where(string_data[:,5] == '',\n",
    "                                 0,\n",
    "                                 string_data[:,5])"
   ]
  },
  {
   "cell_type": "code",
   "execution_count": 862,
   "id": "535b4421",
   "metadata": {},
   "outputs": [
    {
     "data": {
      "text/plain": [
       "array(['issue_date', 'loan_status', 'Term_month', 'sub_grade', 'verification_status', 'addr_state'],\n",
       "      dtype='<U19')"
      ]
     },
     "execution_count": 862,
     "metadata": {},
     "output_type": "execute_result"
    }
   ],
   "source": [
    "header_strings"
   ]
  },
  {
   "cell_type": "markdown",
   "id": "119f93c3",
   "metadata": {},
   "source": [
    "# manipulating numeric columns"
   ]
  },
  {
   "cell_type": "code",
   "execution_count": 863,
   "id": "34128f8d",
   "metadata": {},
   "outputs": [
    {
     "data": {
      "text/plain": [
       "array([48010226., 57693261., 59432726., ..., 50415990., 46154151., 66055249.])"
      ]
     },
     "execution_count": 863,
     "metadata": {},
     "output_type": "execute_result"
    }
   ],
   "source": [
    "numeric_data[:,0]"
   ]
  },
  {
   "cell_type": "code",
   "execution_count": 864,
   "id": "44bf8854",
   "metadata": {},
   "outputs": [
    {
     "data": {
      "text/plain": [
       "0"
      ]
     },
     "execution_count": 864,
     "metadata": {},
     "output_type": "execute_result"
    }
   ],
   "source": [
    "np.isnan(numeric_data[:,0]).sum()"
   ]
  },
  {
   "cell_type": "code",
   "execution_count": 865,
   "id": "64d13133",
   "metadata": {},
   "outputs": [
    {
     "data": {
      "text/plain": [
       "'id'"
      ]
     },
     "execution_count": 865,
     "metadata": {},
     "output_type": "execute_result"
    }
   ],
   "source": [
    "header_numeric[0]"
   ]
  },
  {
   "cell_type": "markdown",
   "id": "2bc94777",
   "metadata": {},
   "source": [
    "# loan_amount"
   ]
  },
  {
   "cell_type": "code",
   "execution_count": 866,
   "id": "cc0e5d5b",
   "metadata": {},
   "outputs": [
    {
     "data": {
      "text/plain": [
       "array([35000., 30000., 15000., ..., 10000.,    nan, 10000.])"
      ]
     },
     "execution_count": 866,
     "metadata": {},
     "output_type": "execute_result"
    }
   ],
   "source": [
    "numeric_data[:,1]"
   ]
  },
  {
   "cell_type": "code",
   "execution_count": 867,
   "id": "597b4eda",
   "metadata": {},
   "outputs": [
    {
     "data": {
      "text/plain": [
       "'loan_amnt'"
      ]
     },
     "execution_count": 867,
     "metadata": {},
     "output_type": "execute_result"
    }
   ],
   "source": [
    "header_numeric[1]"
   ]
  },
  {
   "cell_type": "code",
   "execution_count": 868,
   "id": "6aac114d",
   "metadata": {},
   "outputs": [
    {
     "data": {
      "text/plain": [
       "15273.0"
      ]
     },
     "execution_count": 868,
     "metadata": {},
     "output_type": "execute_result"
    }
   ],
   "source": [
    "mean=np.nanmean(numeric_data[:,1]).round()\n",
    "mean"
   ]
  },
  {
   "cell_type": "code",
   "execution_count": 869,
   "id": "3d96c101",
   "metadata": {},
   "outputs": [
    {
     "name": "stdout",
     "output_type": "stream",
     "text": [
      "[   0  500  500 6004  501  500]\n"
     ]
    }
   ],
   "source": [
    "row=np.sum(np.isnan(numeric_data), axis=0)\n",
    "print(row)"
   ]
  },
  {
   "cell_type": "code",
   "execution_count": 870,
   "id": "363c0585",
   "metadata": {},
   "outputs": [
    {
     "data": {
      "text/plain": [
       "500"
      ]
     },
     "execution_count": 870,
     "metadata": {},
     "output_type": "execute_result"
    }
   ],
   "source": [
    "np.isnan(numeric_data[:,1]).sum()"
   ]
  },
  {
   "cell_type": "code",
   "execution_count": 871,
   "id": "51f5f218",
   "metadata": {},
   "outputs": [],
   "source": [
    "numeric_data[:,1]=np.nan_to_num(numeric_data[:,1], nan= 15273.0)"
   ]
  },
  {
   "cell_type": "markdown",
   "id": "aa00731d",
   "metadata": {},
   "source": [
    "# funded amount"
   ]
  },
  {
   "cell_type": "code",
   "execution_count": 872,
   "id": "30852897",
   "metadata": {},
   "outputs": [
    {
     "data": {
      "text/plain": [
       "array([35000., 30000., 15000., ..., 10000., 10000., 10000.])"
      ]
     },
     "execution_count": 872,
     "metadata": {},
     "output_type": "execute_result"
    }
   ],
   "source": [
    "numeric_data[:,2]"
   ]
  },
  {
   "cell_type": "code",
   "execution_count": 873,
   "id": "10c8b4da",
   "metadata": {},
   "outputs": [
    {
     "data": {
      "text/plain": [
       "'funded_amnt'"
      ]
     },
     "execution_count": 873,
     "metadata": {},
     "output_type": "execute_result"
    }
   ],
   "source": [
    "header_numeric[2]"
   ]
  },
  {
   "cell_type": "code",
   "execution_count": 874,
   "id": "a0dd9c18",
   "metadata": {},
   "outputs": [
    {
     "data": {
      "text/plain": [
       "500"
      ]
     },
     "execution_count": 874,
     "metadata": {},
     "output_type": "execute_result"
    }
   ],
   "source": [
    "np.isnan(numeric_data[:,2]).sum()"
   ]
  },
  {
   "cell_type": "code",
   "execution_count": 875,
   "id": "7d9c88ba",
   "metadata": {},
   "outputs": [
    {
     "data": {
      "text/plain": [
       "15311.0"
      ]
     },
     "execution_count": 875,
     "metadata": {},
     "output_type": "execute_result"
    }
   ],
   "source": [
    "mean=np.nanmean(numeric_data[:,2]).round()\n",
    "mean"
   ]
  },
  {
   "cell_type": "code",
   "execution_count": 876,
   "id": "86dbef3e",
   "metadata": {},
   "outputs": [],
   "source": [
    "numeric_data[:,2]=np.nan_to_num(numeric_data[:,2], nan=15311.0)"
   ]
  },
  {
   "cell_type": "code",
   "execution_count": 877,
   "id": "c0d21c2d",
   "metadata": {},
   "outputs": [
    {
     "data": {
      "text/plain": [
       "array([35000, 30000, 15000, ..., 10000, 10000, 10000])"
      ]
     },
     "execution_count": 877,
     "metadata": {},
     "output_type": "execute_result"
    }
   ],
   "source": [
    "numeric_data[:,2].astype(int)"
   ]
  },
  {
   "cell_type": "markdown",
   "id": "ddf2920c",
   "metadata": {},
   "source": [
    "# interest rate"
   ]
  },
  {
   "cell_type": "code",
   "execution_count": 878,
   "id": "876ed594",
   "metadata": {},
   "outputs": [
    {
     "data": {
      "text/plain": [
       "'int_rate'"
      ]
     },
     "execution_count": 878,
     "metadata": {},
     "output_type": "execute_result"
    }
   ],
   "source": [
    "header_numeric[3]"
   ]
  },
  {
   "cell_type": "code",
   "execution_count": 879,
   "id": "e6883fa6",
   "metadata": {},
   "outputs": [
    {
     "data": {
      "text/plain": [
       "array([13.33,   nan,   nan, ...,   nan, 16.55,   nan])"
      ]
     },
     "execution_count": 879,
     "metadata": {},
     "output_type": "execute_result"
    }
   ],
   "source": [
    "numeric_data[:,3]"
   ]
  },
  {
   "cell_type": "code",
   "execution_count": 880,
   "id": "02735c4d",
   "metadata": {},
   "outputs": [
    {
     "data": {
      "text/plain": [
       "6.0"
      ]
     },
     "execution_count": 880,
     "metadata": {},
     "output_type": "execute_result"
    }
   ],
   "source": [
    "min=np.nanmin(numeric_data[:,3])\n",
    "min"
   ]
  },
  {
   "cell_type": "code",
   "execution_count": 881,
   "id": "898202b8",
   "metadata": {},
   "outputs": [
    {
     "data": {
      "text/plain": [
       "6004"
      ]
     },
     "execution_count": 881,
     "metadata": {},
     "output_type": "execute_result"
    }
   ],
   "source": [
    "np.isnan(numeric_data[:,3]).sum()"
   ]
  },
  {
   "cell_type": "code",
   "execution_count": 882,
   "id": "6a29475f",
   "metadata": {},
   "outputs": [
    {
     "name": "stdout",
     "output_type": "stream",
     "text": [
      "[   0    0    0 6004  501  500]\n"
     ]
    }
   ],
   "source": [
    "row=np.sum(np.isnan(numeric_data), axis=0)\n",
    "print(row)"
   ]
  },
  {
   "cell_type": "code",
   "execution_count": 883,
   "id": "6d1b76f2",
   "metadata": {},
   "outputs": [],
   "source": [
    "numeric_data[:,3]=np.nan_to_num(numeric_data[:,3], nan=6.0)"
   ]
  },
  {
   "cell_type": "markdown",
   "id": "5dc54950",
   "metadata": {},
   "source": [
    "# installment"
   ]
  },
  {
   "cell_type": "code",
   "execution_count": 884,
   "id": "72d50c38",
   "metadata": {},
   "outputs": [
    {
     "data": {
      "text/plain": [
       "'installment'"
      ]
     },
     "execution_count": 884,
     "metadata": {},
     "output_type": "execute_result"
    }
   ],
   "source": [
    "header_numeric[4]"
   ]
  },
  {
   "cell_type": "code",
   "execution_count": 885,
   "id": "dcfe6a26",
   "metadata": {},
   "outputs": [
    {
     "data": {
      "text/plain": [
       "array([1184.86,  938.57,  494.86, ...,     nan,  354.3 ,  309.97])"
      ]
     },
     "execution_count": 885,
     "metadata": {},
     "output_type": "execute_result"
    }
   ],
   "source": [
    "numeric_data[:,4]"
   ]
  },
  {
   "cell_type": "code",
   "execution_count": 886,
   "id": "c495355a",
   "metadata": {},
   "outputs": [
    {
     "data": {
      "text/plain": [
       "501"
      ]
     },
     "execution_count": 886,
     "metadata": {},
     "output_type": "execute_result"
    }
   ],
   "source": [
    "np.isnan(numeric_data[:,4]).sum()"
   ]
  },
  {
   "cell_type": "code",
   "execution_count": 887,
   "id": "8879eb0a",
   "metadata": {},
   "outputs": [
    {
     "name": "stdout",
     "output_type": "stream",
     "text": [
      "[  0   0   0   0 501 500]\n"
     ]
    }
   ],
   "source": [
    "row=np.sum(np.isnan(numeric_data), axis=0)\n",
    "print(row)"
   ]
  },
  {
   "cell_type": "code",
   "execution_count": 888,
   "id": "71619df5",
   "metadata": {},
   "outputs": [
    {
     "data": {
      "text/plain": [
       "array([  31.42,   31.88,   32.27, ..., 1330.7 , 1372.97,     nan])"
      ]
     },
     "execution_count": 888,
     "metadata": {},
     "output_type": "execute_result"
    }
   ],
   "source": [
    "np.unique(numeric_data[:,4])"
   ]
  },
  {
   "cell_type": "code",
   "execution_count": 889,
   "id": "849e6e5f",
   "metadata": {},
   "outputs": [
    {
     "data": {
      "text/plain": [
       "31.42"
      ]
     },
     "execution_count": 889,
     "metadata": {},
     "output_type": "execute_result"
    }
   ],
   "source": [
    "min=np.nanmin(numeric_data[:,4])\n",
    "min"
   ]
  },
  {
   "cell_type": "code",
   "execution_count": 890,
   "id": "23820842",
   "metadata": {},
   "outputs": [],
   "source": [
    "numeric_data[:,4]=np.nan_to_num(numeric_data[:,4], nan=31.42)"
   ]
  },
  {
   "cell_type": "markdown",
   "id": "4a49f62f",
   "metadata": {},
   "source": [
    "# total payment"
   ]
  },
  {
   "cell_type": "code",
   "execution_count": 891,
   "id": "ec1c1aaa",
   "metadata": {},
   "outputs": [
    {
     "data": {
      "text/plain": [
       "'total_pymnt'"
      ]
     },
     "execution_count": 891,
     "metadata": {},
     "output_type": "execute_result"
    }
   ],
   "source": [
    "header_numeric[5]"
   ]
  },
  {
   "cell_type": "code",
   "execution_count": 892,
   "id": "b3f76d1d",
   "metadata": {},
   "outputs": [
    {
     "data": {
      "text/plain": [
       "array([9452.96, 4679.7 , 1969.83, ..., 2185.64, 3199.4 ,  301.9 ])"
      ]
     },
     "execution_count": 892,
     "metadata": {},
     "output_type": "execute_result"
    }
   ],
   "source": [
    "numeric_data[:,5]"
   ]
  },
  {
   "cell_type": "code",
   "execution_count": 893,
   "id": "59d31bd4",
   "metadata": {},
   "outputs": [
    {
     "data": {
      "text/plain": [
       "3144.0"
      ]
     },
     "execution_count": 893,
     "metadata": {},
     "output_type": "execute_result"
    }
   ],
   "source": [
    "min=np.nanmean(numeric_data[:,5]).round()\n",
    "min"
   ]
  },
  {
   "cell_type": "code",
   "execution_count": 894,
   "id": "82ef1cfd",
   "metadata": {},
   "outputs": [],
   "source": [
    "numeric_data[:,5]=np.nan_to_num(numeric_data[:,5],nan=3144.0)"
   ]
  },
  {
   "cell_type": "markdown",
   "id": "ecd6604f",
   "metadata": {},
   "source": [
    "# final dataset"
   ]
  },
  {
   "cell_type": "code",
   "execution_count": 895,
   "id": "88f28d4d",
   "metadata": {},
   "outputs": [
    {
     "data": {
      "text/plain": [
       "array([[48010226,    35000,    35000,       13,     1184,     9452],\n",
       "       [57693261,    30000,    30000,        6,      938,     4679],\n",
       "       [59432726,    15000,    15000,        6,      494,     1969],\n",
       "       ...,\n",
       "       [50415990,    10000,    10000,        6,       31,     2185],\n",
       "       [46154151,    15273,    10000,       16,      354,     3199],\n",
       "       [66055249,    10000,    10000,        6,      309,      301]])"
      ]
     },
     "execution_count": 895,
     "metadata": {},
     "output_type": "execute_result"
    }
   ],
   "source": [
    "numeric_data=numeric_data.astype(int)\n",
    "numeric_data"
   ]
  },
  {
   "cell_type": "code",
   "execution_count": 912,
   "id": "5baf60c5",
   "metadata": {},
   "outputs": [
    {
     "data": {
      "text/plain": [
       "array([['48010226', '35000', '35000', ..., 'C3', 'Verified', 'CA'],\n",
       "       ['57693261', '30000', '30000', ..., 'A5', 'Source Verified', 'NY'],\n",
       "       ['59432726', '15000', '15000', ..., 'B5', 'Verified', 'PA'],\n",
       "       ...,\n",
       "       ['50415990', '10000', '10000', ..., 'A5', 'Source Verified', 'CA'],\n",
       "       ['46154151', '15273', '10000', ..., 'D2', 'Source Verified', 'OH'],\n",
       "       ['66055249', '10000', '10000', ..., 'A4', '', 'IL']], dtype='<U69')"
      ]
     },
     "execution_count": 912,
     "metadata": {},
     "output_type": "execute_result"
    }
   ],
   "source": [
    "data=np.hstack((numeric_data , string_data))\n",
    "data"
   ]
  },
  {
   "cell_type": "code",
   "execution_count": 913,
   "id": "b62fe654",
   "metadata": {},
   "outputs": [
    {
     "data": {
      "text/plain": [
       "array(['id', 'loan_amnt', 'funded_amnt', 'int_rate', 'installment', 'total_pymnt', 'issue_date',\n",
       "       'loan_status', 'Term_month', 'sub_grade', 'verification_status', 'addr_state'], dtype='<U19')"
      ]
     },
     "execution_count": 913,
     "metadata": {},
     "output_type": "execute_result"
    }
   ],
   "source": [
    "header=np.append(header_numeric,header_strings)\n",
    "header"
   ]
  },
  {
   "cell_type": "code",
   "execution_count": 914,
   "id": "f5775571",
   "metadata": {},
   "outputs": [],
   "source": [
    "header=np.array(['id', 'loan_amnt', 'funded_amnt', 'int_rate', 'installment', 'total_pymnt', 'issue_date',\n",
    "       'loan_status', 'Term_month', 'sub_grade', 'verification_status', 'addr_state'])"
   ]
  },
  {
   "cell_type": "code",
   "execution_count": 915,
   "id": "b4194837",
   "metadata": {},
   "outputs": [],
   "source": [
    "data = np.vstack((header, data))"
   ]
  },
  {
   "cell_type": "code",
   "execution_count": 916,
   "id": "e2e195a1",
   "metadata": {},
   "outputs": [
    {
     "data": {
      "text/plain": [
       "array([['id', 'loan_amnt', 'funded_amnt', ..., 'sub_grade', 'verification_status', 'addr_state'],\n",
       "       ['48010226', '35000', '35000', ..., 'C3', 'Verified', 'CA'],\n",
       "       ['57693261', '30000', '30000', ..., 'A5', 'Source Verified', 'NY'],\n",
       "       ...,\n",
       "       ['50415990', '10000', '10000', ..., 'A5', 'Source Verified', 'CA'],\n",
       "       ['46154151', '15273', '10000', ..., 'D2', 'Source Verified', 'OH'],\n",
       "       ['66055249', '10000', '10000', ..., 'A4', '', 'IL']], dtype='<U69')"
      ]
     },
     "execution_count": 916,
     "metadata": {},
     "output_type": "execute_result"
    }
   ],
   "source": [
    "data"
   ]
  },
  {
   "cell_type": "code",
   "execution_count": 903,
   "id": "7dcdc308",
   "metadata": {},
   "outputs": [],
   "source": [
    "np.savez('loan_data.csv', data)"
   ]
  },
  {
   "cell_type": "code",
   "execution_count": null,
   "id": "c52c1ca3",
   "metadata": {},
   "outputs": [],
   "source": []
  }
 ],
 "metadata": {
  "kernelspec": {
   "display_name": "Python 3 (ipykernel)",
   "language": "python",
   "name": "python3"
  },
  "language_info": {
   "codemirror_mode": {
    "name": "ipython",
    "version": 3
   },
   "file_extension": ".py",
   "mimetype": "text/x-python",
   "name": "python",
   "nbconvert_exporter": "python",
   "pygments_lexer": "ipython3",
   "version": "3.10.9"
  }
 },
 "nbformat": 4,
 "nbformat_minor": 5
}
